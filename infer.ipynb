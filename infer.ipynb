{
 "metadata": {
  "language_info": {
   "codemirror_mode": {
    "name": "ipython",
    "version": 3
   },
   "file_extension": ".py",
   "mimetype": "text/x-python",
   "name": "python",
   "nbconvert_exporter": "python",
   "pygments_lexer": "ipython3",
   "version": "3.8.5-final"
  },
  "orig_nbformat": 2,
  "kernelspec": {
   "name": "python3",
   "display_name": "Python 3",
   "language": "python"
  }
 },
 "nbformat": 4,
 "nbformat_minor": 2,
 "cells": [
  {
   "cell_type": "code",
   "execution_count": 1,
   "metadata": {},
   "outputs": [],
   "source": [
    "import os\n",
    "import matplotlib.pyplot as plt\n",
    "from tqdm import tqdm\n",
    "import torch\n",
    "from torch.utils.data import DataLoader\n",
    "import easydict\n",
    "import pandas as pd\n",
    "import util\n",
    "from efficientnet_pytorch import EfficientNet\n",
    "from torchvision import transforms"
   ]
  },
  {
   "cell_type": "code",
   "execution_count": 2,
   "metadata": {},
   "outputs": [
    {
     "output_type": "stream",
     "name": "stdout",
     "text": [
      "Device : cuda:1\n",
      "weight ./save/02161617/model_best.pth.tar is loaded\n"
     ]
    }
   ],
   "source": [
    "util.seed_everything(777)\n",
    "device = torch.device(\"cuda:1\" if torch.cuda.is_available() else \"cpu\")\n",
    "# device = 'cpu'\n",
    "print('Device : {}'.format(device))\n",
    "\n",
    "args = easydict.EasyDict({\n",
    "    \"device\": device,\n",
    "    \"model\": \"efficientnet-b8\",\n",
    "    \"model_weight\": \"./save/02161617/model_best.pth.tar\", \n",
    "\n",
    "    \"train_data_file_dir\": \"./data/dirty_mnist_2nd/\",\n",
    "    \"test_data_file_dir\": \"./data/test_dirty_mnist_2nd/\",\n",
    "\n",
    "    \"train_data_answer_dir\": \"./data/dirty_mnist_2nd_answer.csv\",\n",
    "    \"submission_file_dir\": \"./data/sample_submission.csv\",\n",
    "\n",
    "    \"batch_size\": 16,\n",
    "})\n",
    "\n",
    "assert os.path.isfile(args.model_weight), 'wrong path'\n",
    "assert os.path.isdir(args.train_data_file_dir), 'wrong path'\n",
    "assert os.path.isdir(args.test_data_file_dir), 'wrong path'\n",
    "assert os.path.isfile(args.train_data_answer_dir), 'wrong path'\n",
    "assert os.path.isfile(args.submission_file_dir), 'wrong path'\n",
    "\n",
    "model = EfficientNet.from_name(args.model, in_channels=1, num_classes=26)\n",
    "model.load_state_dict(torch.load(args.model_weight))\n",
    "print('weight {} is loaded'.format(args.model_weight))\n",
    "\n",
    "train_df = pd.read_csv(args.train_data_answer_dir)[:16]\n",
    "\n",
    "train_set = util.DatasetMNIST(\n",
    "    image_folder=args.train_data_file_dir,\n",
    "    label_df=train_df,\n",
    "    transforms=util.mnist_transforms['valid']\n",
    ")\n",
    "\n",
    "train_data_loader = torch.utils.data.DataLoader(\n",
    "        train_set,\n",
    "        batch_size = args.batch_size,\n",
    "        shuffle = True,\n",
    "    )\n",
    "\n",
    "test_df = pd.read_csv(args.submission_file_dir)\n",
    "\n",
    "test_set = util.DatasetMNIST(\n",
    "    image_folder=args.test_data_file_dir,\n",
    "    label_df=test_df,\n",
    "    transforms=util.mnist_transforms['valid']\n",
    ")\n",
    "\n",
    "test_data_loader = torch.utils.data.DataLoader(\n",
    "        test_set,\n",
    "        batch_size = args.batch_size,\n",
    "        shuffle = False,\n",
    "    )\n",
    "\n",
    "iterator = iter(test_data_loader)"
   ]
  },
  {
   "cell_type": "code",
   "execution_count": null,
   "metadata": {},
   "outputs": [],
   "source": [
    "image, label = next(iterator)\n",
    "\n",
    "image_t = image.float().to(args.device)\n",
    "\n",
    "model.to(args.device)\n",
    "model.eval()\n",
    "pred = model(image_t)\n",
    "\n",
    "plt.figure(figsize=(12,12))\n",
    "\n",
    "for idx in range(4):\n",
    "    plt.subplot(4, 2, idx + 1)\n",
    "    \n",
    "    img = transforms.ToPILImage()(image[idx])\n",
    "    \n",
    "    true_y = test_df.columns[1:][label[idx].detach().to('cpu').numpy() > 0.5].values.tolist()\n",
    "    pred_y = test_df.columns[1:][pred[idx].detach().to('cpu').numpy() > 0.5].values.tolist()\n",
    "\n",
    "    plt.title('t :' + str(true_y) + '\\n' + 'p :' + str(pred_y))\n",
    "    plt.imshow(img, 'gray')\n",
    "    plt.axis('off')\n",
    "\n",
    "plt.plot()"
   ]
  },
  {
   "cell_type": "code",
   "execution_count": 3,
   "metadata": {},
   "outputs": [
    {
     "output_type": "stream",
     "name": "stderr",
     "text": [
      "100%|██████████| 313/313 [00:59<00:00,  5.27it/s]submission fils is saved to ./save/02161617/\n",
      "\n"
     ]
    }
   ],
   "source": [
    "SAVE_PATH = args.model_weight.replace('model_best.pth.tar', '')\n",
    "\n",
    "submit = pd.read_csv(args.submission_file_dir)\n",
    "\n",
    "model.to(args.device)\n",
    "model.eval()\n",
    "\n",
    "batch_size = args.batch_size\n",
    "batch_index = 0\n",
    "\n",
    "for i, (images, targets) in enumerate(tqdm(test_data_loader)):\n",
    "    images = images.to(args.device)\n",
    "    # targets = targets.to(args.device)\n",
    "    outputs = model(images)\n",
    "    outputs = outputs > 0.0\n",
    "    batch_index = i * batch_size\n",
    "    submit.iloc[batch_index:batch_index+batch_size, 1:] = \\\n",
    "        outputs.long().squeeze(0).detach().cpu().numpy()\n",
    "    \n",
    "submit.to_csv(os.path.join(SAVE_PATH, args.model_weight.split('/')[2] + '_submission.csv'), index=False)\n",
    "print('submission fils is saved to {}'.format(SAVE_PATH))"
   ]
  }
 ]
}