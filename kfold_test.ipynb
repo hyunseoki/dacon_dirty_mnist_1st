{
 "metadata": {
  "language_info": {
   "codemirror_mode": {
    "name": "ipython",
    "version": 3
   },
   "file_extension": ".py",
   "mimetype": "text/x-python",
   "name": "python",
   "nbconvert_exporter": "python",
   "pygments_lexer": "ipython3",
   "version": "3.8.2-final"
  },
  "orig_nbformat": 2,
  "kernelspec": {
   "name": "python3",
   "display_name": "Python 3",
   "language": "python"
  }
 },
 "nbformat": 4,
 "nbformat_minor": 2,
 "cells": [
  {
   "cell_type": "code",
   "execution_count": 9,
   "metadata": {},
   "outputs": [],
   "source": [
    "import numpy as np\n",
    "import matplotlib.pyplot as plt\n",
    "import pandas as pd"
   ]
  },
  {
   "cell_type": "code",
   "execution_count": 10,
   "metadata": {},
   "outputs": [],
   "source": [
    "data_set = pd.read_csv('data/dirty_mnist_2nd_answer.csv')\n",
    "kfolder_idx = 3"
   ]
  },
  {
   "cell_type": "code",
   "execution_count": 3,
   "metadata": {},
   "outputs": [
    {
     "output_type": "stream",
     "name": "stdout",
     "text": [
      "12500\n"
     ]
    }
   ],
   "source": [
    "valid_idx_nb = int(len(data_set) * (1 - 0.75))\n",
    "print(valid_idx_nb)"
   ]
  },
  {
   "cell_type": "code",
   "execution_count": 4,
   "metadata": {},
   "outputs": [
    {
     "output_type": "stream",
     "name": "stdout",
     "text": [
      "[12500 12501 12502 ... 24997 24998 24999]\n"
     ]
    }
   ],
   "source": [
    "valid_idx = np.arange(valid_idx_nb * kfolder_idx, valid_idx_nb * (kfolder_idx + 1))\n",
    "print(valid_idx)"
   ]
  },
  {
   "cell_type": "code",
   "execution_count": 8,
   "metadata": {},
   "outputs": [],
   "source": [
    "train_data = data_set.drop(data_set.index[valid_idx_nb * kfolder_idx:valid_idx_nb * (kfolder_idx + 1)])\n",
    "valid_data = data_set.index[valid_idx_nb * kfolder_idx:valid_idx_nb * (kfolder_idx + 1)]"
   ]
  }
 ]
}