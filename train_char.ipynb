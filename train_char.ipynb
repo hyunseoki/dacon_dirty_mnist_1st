{
 "metadata": {
  "language_info": {
   "codemirror_mode": {
    "name": "ipython",
    "version": 3
   },
   "file_extension": ".py",
   "mimetype": "text/x-python",
   "name": "python",
   "nbconvert_exporter": "python",
   "pygments_lexer": "ipython3",
   "version": "3.8.5-final"
  },
  "orig_nbformat": 2,
  "kernelspec": {
   "name": "python3",
   "display_name": "Python 3",
   "language": "python"
  }
 },
 "nbformat": 4,
 "nbformat_minor": 2,
 "cells": [
  {
   "cell_type": "code",
   "execution_count": 1,
   "metadata": {},
   "outputs": [],
   "source": [
    "import os\n",
    "import cv2\n",
    "import torch\n",
    "import pandas as pd\n",
    "import copy\n",
    "from skimage.util import random_noise\n",
    "from torch.utils.data import Dataset\n",
    "from torch import nn\n",
    "import matplotlib.pyplot as plt\n",
    "import numpy as np\n",
    "import util\n",
    "import easydict\n",
    "from torchvision import transforms\n",
    "from torch.optim.lr_scheduler import ReduceLROnPlateau\n",
    "from datetime import datetime\n",
    "from pathlib import Path\n",
    "from PIL import Image"
   ]
  },
  {
   "cell_type": "code",
   "execution_count": 2,
   "metadata": {},
   "outputs": [
    {
     "output_type": "stream",
     "name": "stdout",
     "text": [
      "Device : cuda:1\n"
     ]
    }
   ],
   "source": [
    "device = torch.device(\"cuda:1\" if torch.cuda.is_available() else \"cpu\")\n",
    "# device = 'cpu'\n",
    "print('Device : {}'.format(device))\n",
    "\n",
    "args = easydict.EasyDict({\n",
    "    \"device\": device,\n",
    "    \"mnist_fn\": './data/old_data/train.csv',\n",
    "    \"resume\": None,\n",
    "\n",
    "    \"lr\": 1e-4,\n",
    "    \"batch_size\": 64,\n",
    "    \"epochs\": 2000,\n",
    "    \"patient\": 15,\n",
    "\n",
    "    \"dataset_ratio\": 0.7,\n",
    "})\n",
    "\n",
    "util.seed_everything(777)\n",
    "assert os.path.isfile(args.mnist_fn), 'wrong path'\n",
    "# assert os.path.isdir(args.train_data_file_dir), 'wrong path'\n",
    "# assert os.path.isdir(args.test_data_file_dir), 'wrong path'\n",
    "# assert os.path.isfile(args.train_data_answer_dir), 'wrong path'\n",
    "# assert os.path.isfile(args.submission_file_dir), 'wrong path'"
   ]
  },
  {
   "cell_type": "code",
   "execution_count": null,
   "metadata": {},
   "outputs": [],
   "source": [
    "class Mnist(Dataset):    \n",
    "    def __init__(self, fn, transforms=None):        \n",
    "        self.transforms = transforms\n",
    "        df = pd.read_csv(fn)\n",
    "        df = df.drop(['id', 'letter'], axis=1).values\n",
    "        df = df.reshape(-1, 28, 28) / 255.0\n",
    "\n",
    "        \n",
    "        self.train_x = np.concatenate([img_gaussian, img_snp], axis=0)\n",
    "        self.train_y = np.concatenate([img_original, img_original], axis=0)\n",
    "        \n",
    "    def __len__(self):\n",
    "        return self.train_x.shape[0]\n",
    "    \n",
    "    def __getitem__(self, idx):\n",
    "        if self.transforms:\n",
    "            train_x = self.transforms(self.train_x[idx])\n",
    "            train_y = self.transforms(self.train_y[idx])\n",
    "        else:\n",
    "            train_x = self.train_x[idx]\n",
    "            train_y = self.train_y[idx]\n",
    "             \n",
    "        return train_x, train_y"
   ]
  },
  {
   "cell_type": "code",
   "execution_count": 11,
   "metadata": {},
   "outputs": [
    {
     "output_type": "execute_result",
     "data": {
      "text/plain": [
       "0       L\n",
       "1       B\n",
       "2       L\n",
       "3       D\n",
       "4       A\n",
       "       ..\n",
       "2043    V\n",
       "2044    L\n",
       "2045    A\n",
       "2046    Z\n",
       "2047    Z\n",
       "Name: letter, Length: 2048, dtype: object"
      ]
     },
     "metadata": {},
     "execution_count": 11
    }
   ],
   "source": [
    "df = pd.read_csv(args.mnist_fn)\n",
    "df = df.drop(['id', 'digit'], axis=1)\n",
    "letter = df['letter']\n",
    "# df = df.reshape(-1, 28, 28) / 255.0\n",
    "letter"
   ]
  }
 ]
}